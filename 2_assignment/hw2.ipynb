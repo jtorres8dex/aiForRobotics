{
 "cells": [
  {
   "cell_type": "markdown",
   "metadata": {},
   "source": [
    "# **Homework 2**\n",
    "## **Artificial Intelligence For Robotics**\n",
    "### **Julian Torres**\n",
    "\n",
    "\n",
    "# **TODO**\n",
    "\n",
    "- read first order logic\n",
    "- read paper\n",
    "- read planning chapter (11 i think)"
   ]
  },
  {
   "cell_type": "markdown",
   "metadata": {},
   "source": [
    "# 1) Problem 7.7\n",
    "### Consider a vocabulary with only four propositions, A, B, C, and D. How many models are there for the following sentences?\n",
    "$\\neg$\n",
    "$\\wedge$\n",
    "$\\implies$\n",
    "### a) B  $\\neg$ C\n",
    "\n",
    "### b) $\\neg$ A $\\wedge$ $\\neg$ B $\\wedge$ C "
   ]
  },
  {
   "cell_type": "markdown",
   "metadata": {},
   "source": [
    "# 2) \n"
   ]
  },
  {
   "cell_type": "markdown",
   "metadata": {},
   "source": [
    "# 3)\n",
    "\n",
    "i. A $\\wedge$ B\n",
    "\n",
    "ii. A $\\implies$ B\n",
    "\n",
    "iii.  Studied for test $\\iff$ did well on it\n",
    "\n",
    "iv. dry $\\wedge$ raining outside $\\implies$ (have umbrella $\\vee$ have hoodie) $\\wedge$ not raining heavily \n",
    "\n"
   ]
  },
  {
   "cell_type": "markdown",
   "metadata": {},
   "source": [
    "# 4) "
   ]
  },
  {
   "cell_type": "markdown",
   "metadata": {},
   "source": [
    "# 5) "
   ]
  },
  {
   "cell_type": "markdown",
   "metadata": {},
   "source": [
    "# 6)\n",
    "\n",
    "10.9: Construct levels 0, 1, and 2 of the planning graph for the problem in Figure 10.1.\n"
   ]
  }
 ],
 "metadata": {
  "language_info": {
   "name": "python"
  }
 },
 "nbformat": 4,
 "nbformat_minor": 2
}
