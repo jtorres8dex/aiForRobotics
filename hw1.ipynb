{
 "cells": [
  {
   "cell_type": "markdown",
   "metadata": {},
   "source": [
    "# Homework 1\n",
    "## Part A: Theory and Algorithms\n",
    "### Julian Torres"
   ]
  },
  {
   "cell_type": "markdown",
   "metadata": {},
   "source": [
    "## 1) 2.4\n",
    "For each of the following activites, give a PEAS description of the task environment and characterize it in terms of the properties listed in section 2.3.2\n",
    "\n",
    "- playing soccer\n",
    "- Exploring the subsurface oceans of Titan. \n",
    "- Shopping for used AI books on the Internet. \n",
    "- Playing a tennis match.\n",
    "- Practicing tennis against a wall.\n",
    "- Performing a high jump.\n",
    "- Knitting a sweater.\n",
    "- Bidding on an item at an auction."
   ]
  },
  {
   "cell_type": "markdown",
   "metadata": {},
   "source": [
    "### Playing soccer \n",
    "\n",
    "**Performance Measure:** maximize goals scored, minimize goals allowed, minimize penalties, minimize injuries\n",
    "\n",
    "**Environment:** Soccer field - grass or turf, various weather conditions\n",
    "\n",
    "**Actuators:** those available to a human athlete - running, kicking, jumping, sliding, diving\n",
    "\n",
    "**Sensors:** Camera, radar, accelerometer, microphones, force-torque sensors, GPS, encoders\n",
    "\n",
    "### Exploring the subsurface oceans of Titan. \n",
    "\n",
    "**Performance Measure:** maximize area covered by agent, maximize samples taken per unit area, \n",
    "\n",
    "**Environment:**\n",
    "\n",
    "**Actuators:**\n",
    "\n",
    "**Sensors:** Barameter, GPS, lidar, camera \n",
    "\n",
    "### Shopping for used AI books on the Internet. \n",
    "\n",
    "**Performance Measure:** \n",
    "\n",
    "**Environment:**\n",
    "\n",
    "**Actuators:**\n",
    "\n",
    "**Sensors:**\n",
    "\n",
    "### Playing a tennis match.\n",
    "\n",
    "**Performance Measure:**\n",
    "\n",
    "**Environment:**\n",
    "\n",
    "**Actuators:**\n",
    "\n",
    "**Sensors:**\n",
    "### Practicing tennis against a wall.\n",
    "**Performance Measure:**\n",
    "\n",
    "**Environment:**\n",
    "\n",
    "**Actuators:**\n",
    "\n",
    "**Sensors:**\n",
    "### Performing a high jump.\n",
    "**Performance Measure:**\n",
    "\n",
    "**Environment:**\n",
    "\n",
    "**Actuators:**\n",
    "\n",
    "**Sensors:**\n",
    "### Knitting a sweater.\n",
    "**Performance Measure:**\n",
    "\n",
    "**Environment:**\n",
    "\n",
    "**Actuators:**\n",
    "\n",
    "**Sensors:**\n",
    "### Bidding on an item at an auction.\n",
    "**Performance Measure:**\n",
    "\n",
    "**Environment:**\n",
    "\n",
    "**Actuators:**\n",
    "\n",
    "**Sensors:**"
   ]
  },
  {
   "cell_type": "code",
   "execution_count": null,
   "metadata": {},
   "outputs": [],
   "source": []
  },
  {
   "cell_type": "markdown",
   "metadata": {},
   "source": [
    " ## 2) 3.6a\n",
    " ### Give a complete problem formulation for following. Choose a formulation that is precise enough to be implemented. Using only four colors, you have to color a planar map in such a way that no two adjacent regions have the same color."
   ]
  },
  {
   "cell_type": "markdown",
   "metadata": {},
   "source": []
  },
  {
   "cell_type": "markdown",
   "metadata": {},
   "source": [
    "## 3.6b\n",
    "### A 3-foot-tall monkey is in a room where some bananas are suspended from the 8-foot ceiling. He would like to get the bananas. The room contains two stackable, movable, climbable 3-foot-high crates."
   ]
  },
  {
   "cell_type": "markdown",
   "metadata": {},
   "source": [
    "## 3) 3.9a\n",
    "### The missionaries and cannibals problem is usually stated as follows. Three missionaries and three cannibals are on one side of a river, along with a boat that can hold one or two people. Find a way to get everyone to the other side without ever leaving a group of missionaries in one place outnumbered by the cannibals in that place. This problem is famous in AI because it was the subject of the first paper that approached problem formulation from an analytical viewpoint (Amarel, 1968).\n",
    "a. Formulate the problem precisely, making only those distinctions necessary to ensure a valid solution. Draw a diagram of the complete state space."
   ]
  },
  {
   "cell_type": "markdown",
   "metadata": {},
   "source": []
  },
  {
   "cell_type": "code",
   "execution_count": null,
   "metadata": {},
   "outputs": [],
   "source": []
  },
  {
   "cell_type": "markdown",
   "metadata": {},
   "source": [
    "## 4) Posing the N-Queens problem as a search problem (Deepak AI, pg 50)\n",
    "\n",
    "__State__: a \"snapshot\" of the board, denoting what is in every square on the board at a given instance. Can be represented in python as a `list[list[int]]`, where the `int` could be 1 if a queen is in square i,j else 0. \n",
    "\n",
    "__State Space__: All combintations of states. There would be 2^M states in the state space, where M = total number of squares on the board (NxN). \n",
    "\n",
    "__Initial State__: Prior to placing any Queens on the board, the initial state is simply a `list[list[0]]`, i.e. all cells are marked as 0.\n",
    "\n",
    "__Action__: the act of placing a queen at some location on the board, say `action(state) = place1At(state, i,j)`, where `place1At(i,j)` simply adds a 1 to position i,j on state.\n",
    "\n",
    "__Transition Model__: `result(state, action) = newState`, where `newState` is simply `state` plus an additional 1 somewhere on the board\n",
    "\n",
    "__Goal States__: states that satisfy the problem description of N queens placed on an NxN chessboard, such that no queen attacks another, as per chess rules. \n",
    "\n",
    "__Action Cost__: Examples in this section of the textbook merely say \"assume a cost of 1\". But for a more elaborate model of action cost, we can introduce an additional `int` of -1 to `state = list[list[int]]`, where the -1 denotes a cell that is both empty and cannot contain a queen. For example, if we place a queen at cell i,j then all cells horizontal, vertical, and diagonal to i,j would be populated with a -1, as they are now in that queen's attacking range (as per chess rules) "
   ]
  },
  {
   "cell_type": "code",
   "execution_count": null,
   "metadata": {},
   "outputs": [],
   "source": []
  },
  {
   "cell_type": "markdown",
   "metadata": {},
   "source": []
  },
  {
   "cell_type": "markdown",
   "metadata": {},
   "source": [
    "## 5) Rabbit Leap Problem (Deepak AI, pg 51)"
   ]
  },
  {
   "cell_type": "markdown",
   "metadata": {},
   "source": []
  },
  {
   "cell_type": "markdown",
   "metadata": {},
   "source": [
    "## 6) Open and Closed lists for DFS and BFS \n",
    "\n"
   ]
  },
  {
   "cell_type": "markdown",
   "metadata": {},
   "source": []
  },
  {
   "cell_type": "markdown",
   "metadata": {},
   "source": [
    "## 7) Sudoku\n",
    "### a\n",
    "__State Representation__: `set(set[int])` - the grid is defined by nested sets, and `int` shows the value in a given row, col. Use -1 (or 0) to denote an empty cell. \n",
    "\n",
    "### b\n",
    "\n",
    "### c\n",
    "\n",
    "### d"
   ]
  },
  {
   "cell_type": "markdown",
   "metadata": {},
   "source": [
    "## 8) DFS and BFS\n",
    "\n",
    "__State Representation:__ A state here is considered to be the current node. The data in a node consists of it's value and optionally its left and right child. For example, starting at the root of the tree, the state would be a value of 0, with left child being the 1 node and right child being the 4 node. In the code below, the state is represented as the `node` variable.\n",
    "\n",
    "DFS: 0->1->2->3->4->5->6\n",
    "\n",
    "BFS: 0->1->4->2->3->5->6"
   ]
  },
  {
   "cell_type": "code",
   "execution_count": null,
   "metadata": {},
   "outputs": [],
   "source": [
    "from collections import deque\n",
    "\n",
    "class Node:\n",
    "    def __init__(self, val, left=None, right=None):\n",
    "        self.val = val\n",
    "        self.left = left\n",
    "        self.right = right\n",
    "\n",
    "# Tree\n",
    "two = Node(2)\n",
    "three = Node(3)\n",
    "five = Node(5)\n",
    "six = Node(6)\n",
    "one = Node(1, two, three)\n",
    "four = Node(4, five, six)\n",
    "root = Node(0, one, four)\n",
    "\n",
    "def dfs(root: Node):\n",
    "    stack = deque([root])\n",
    "    \n",
    "    while stack:\n",
    "        node = stack.pop()\n",
    "        print(node.val)\n",
    "        if node.right:\n",
    "            stack.append(node.right)\n",
    "        if node.left:\n",
    "            stack.append(node.left)\n",
    "\n",
    "def bfs(root: Node):\n",
    "    que = deque([root])\n",
    "    while que:\n",
    "        node = que.popleft()\n",
    "        print(node.val)\n",
    "        if node.left:\n",
    "            que.append(node.left)\n",
    "        if node.right:\n",
    "            que.append(node.right)\n",
    "\n",
    "print(\"DFS\")\n",
    "dfs(root)\n",
    "print(\"BFS\")\n",
    "bfs(root)"
   ]
  },
  {
   "cell_type": "code",
   "execution_count": null,
   "metadata": {},
   "outputs": [],
   "source": []
  }
 ],
 "metadata": {
  "kernelspec": {
   "display_name": "ai",
   "language": "python",
   "name": "python3"
  },
  "language_info": {
   "codemirror_mode": {
    "name": "ipython",
    "version": 3
   },
   "file_extension": ".py",
   "mimetype": "text/x-python",
   "name": "python",
   "nbconvert_exporter": "python",
   "pygments_lexer": "ipython3",
   "version": "3.13.1"
  }
 },
 "nbformat": 4,
 "nbformat_minor": 2
}
