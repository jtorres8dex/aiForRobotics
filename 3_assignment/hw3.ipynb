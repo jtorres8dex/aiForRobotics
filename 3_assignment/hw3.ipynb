{
 "cells": [
  {
   "cell_type": "markdown",
   "metadata": {},
   "source": [
    "# Julian Torres\n",
    "# Artificial Intelligence for Robotics \n",
    "---\n",
    "# Problem Set 3\n",
    "--- \n",
    "----"
   ]
  },
  {
   "cell_type": "markdown",
   "metadata": {},
   "source": [
    "# 1) \n",
    "\n",
    "## 18.1 \n",
    "**Consider the problem faced by an infant learning to speak and understand a language. Explain how this process fits into the general learning model. Describe the percepts and actions of the infant, and the types of learning the infant must do. Describe the subfunctions the infant is trying to learn in terms of inputs and outputs, and available example data.**\n",
    "\n",
    "## 18.3\n",
    "**Suppose we generate a training set from a decision tree and then apply decision-tree learning to that training set. Is it the case that the learning algorithm will eventually return the correct tree as the training-set size goes to infinity? Why or why not?**\n",
    "\n",
    "## 18.17\n",
    "**Construct a support vector machine that computes the XOR function. Use values of +1 and –1 (instead of 1 and 0) for both inputs and outputs, so that an example looks like ([−1, 1], 1) or ([−1, −1], −1). Map the input [x1, x2] into a space consisting of x1 and x1 x2. Draw the four input points in this space, and the maximal margin separator. What is the margin? Now draw the separating line back in the original Euclidean input space.**\n",
    "\n",
    "## 18.19\n",
    "**Construct by hand a neural network that computes the XOR function of two inputs. Make sure to specify what sort of units you are using.**"
   ]
  }
 ],
 "metadata": {
  "language_info": {
   "name": "python"
  }
 },
 "nbformat": 4,
 "nbformat_minor": 2
}
